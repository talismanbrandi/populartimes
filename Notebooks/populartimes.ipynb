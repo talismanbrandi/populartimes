{
 "cells": [
  {
   "cell_type": "markdown",
   "source": [
    "This is a notebook for playing with populartimes. It assumes that populartimes is already installed. If not, please look\n",
    "into the README."
   ],
   "metadata": {
    "collapsed": false
   }
  },
  {
   "cell_type": "code",
   "execution_count": 6,
   "metadata": {
    "collapsed": true
   },
   "outputs": [],
   "source": [
    "import numpy as np\n",
    "import populartimes as pt\n",
    "import json\n",
    "import pandas as pd"
   ]
  },
  {
   "cell_type": "markdown",
   "source": [
    "populartimes requires a google dev key. Please get it from the google dev site:\n",
    "https://developers.google.com/maps/documentation/javascript/get-api-key\n",
    "\n",
    "__NOTE:__ Do not push out the key information to the repository. It can be misused.\n",
    "\n",
    "`pt.get_id(string key, string place_id)`\n",
    "\n",
    "This call is not charged and you can play around with it."
   ],
   "metadata": {
    "collapsed": false
   }
  },
  {
   "cell_type": "code",
   "execution_count": 9,
   "outputs": [],
   "source": [
    "pop = pt.get_id('PUT YOUR KEY HERE', 'ChIJWVbXxhhPqEcR3OZE5GXI9I4')\n",
    "pop['populartimes']"
   ],
   "metadata": {
    "collapsed": false,
    "pycharm": {
     "name": "#%%\n"
    }
   }
  },
  {
   "cell_type": "markdown",
   "source": [
    "The next call is a radar search. It is charged by google and the first 5k calls are free."
   ],
   "metadata": {
    "collapsed": false
   }
  },
  {
   "cell_type": "code",
   "execution_count": 27,
   "outputs": [],
   "source": [
    "ptradar = pt.get(\"PUT YOUR KEY HERE\", types=['bar'], p1=(48.132986, 11.566126), p2=(48.142199, 11.580047),\n",
    "                 radius=100,all_places=False)"
   ],
   "metadata": {
    "collapsed": false,
    "pycharm": {
     "name": "#%%\n"
    }
   }
  },
  {
   "cell_type": "code",
   "execution_count": 30,
   "outputs": [
    {
     "data": {
      "text/plain": "{'id': 'ChIJxfxSz4t1nkcRLxq9ze1wwak',\n 'name': 'Hofbräuhaus München',\n 'address': 'Platzl 9, München',\n 'types': ['restaurant',\n  'tourist_attraction',\n  'bar',\n  'food',\n  'point_of_interest',\n  'establishment'],\n 'coordinates': {'lat': 48.1376098, 'lng': 11.5799253},\n 'rating': 4.3,\n 'rating_n': 55850,\n 'current_popularity': 115,\n 'populartimes': [{'name': 'Monday',\n   'data': [0,\n    0,\n    0,\n    0,\n    0,\n    0,\n    0,\n    0,\n    0,\n    11,\n    19,\n    28,\n    37,\n    43,\n    46,\n    47,\n    46,\n    44,\n    39,\n    31,\n    21,\n    13,\n    6,\n    2]},\n  {'name': 'Tuesday',\n   'data': [0,\n    0,\n    0,\n    0,\n    0,\n    0,\n    0,\n    0,\n    0,\n    11,\n    16,\n    25,\n    40,\n    57,\n    63,\n    57,\n    47,\n    43,\n    42,\n    36,\n    24,\n    12,\n    4,\n    1]},\n  {'name': 'Wednesday',\n   'data': [0,\n    0,\n    0,\n    0,\n    0,\n    0,\n    0,\n    0,\n    0,\n    9,\n    17,\n    28,\n    40,\n    50,\n    56,\n    56,\n    51,\n    47,\n    46,\n    45,\n    39,\n    26,\n    12,\n    4]},\n  {'name': 'Thursday',\n   'data': [0,\n    0,\n    0,\n    0,\n    0,\n    0,\n    0,\n    0,\n    0,\n    8,\n    13,\n    23,\n    39,\n    57,\n    67,\n    63,\n    54,\n    53,\n    57,\n    57,\n    45,\n    28,\n    12,\n    4]},\n  {'name': 'Friday',\n   'data': [0,\n    0,\n    0,\n    0,\n    0,\n    0,\n    0,\n    0,\n    0,\n    9,\n    16,\n    27,\n    41,\n    55,\n    65,\n    69,\n    68,\n    64,\n    65,\n    71,\n    69,\n    51,\n    28,\n    10]},\n  {'name': 'Saturday',\n   'data': [0,\n    0,\n    0,\n    0,\n    0,\n    0,\n    0,\n    0,\n    0,\n    1,\n    8,\n    23,\n    50,\n    82,\n    100,\n    94,\n    77,\n    68,\n    71,\n    75,\n    68,\n    50,\n    29,\n    13]},\n  {'name': 'Sunday',\n   'data': [0,\n    0,\n    0,\n    0,\n    0,\n    0,\n    0,\n    0,\n    0,\n    2,\n    6,\n    13,\n    24,\n    36,\n    45,\n    49,\n    48,\n    45,\n    42,\n    37,\n    29,\n    20,\n    11,\n    5]}],\n 'time_wait': [{'name': 'Monday',\n   'data': [0,\n    0,\n    0,\n    0,\n    0,\n    0,\n    0,\n    0,\n    0,\n    30,\n    45,\n    45,\n    30,\n    45,\n    45,\n    45,\n    30,\n    30,\n    60,\n    60,\n    75,\n    75,\n    60,\n    45]},\n  {'name': 'Tuesday',\n   'data': [0,\n    0,\n    0,\n    0,\n    0,\n    0,\n    0,\n    0,\n    0,\n    30,\n    45,\n    45,\n    45,\n    60,\n    60,\n    45,\n    30,\n    30,\n    60,\n    75,\n    105,\n    105,\n    75,\n    60]},\n  {'name': 'Wednesday',\n   'data': [0,\n    0,\n    0,\n    0,\n    0,\n    0,\n    0,\n    0,\n    0,\n    30,\n    30,\n    45,\n    30,\n    45,\n    45,\n    30,\n    30,\n    30,\n    45,\n    60,\n    75,\n    75,\n    60,\n    45]},\n  {'name': 'Thursday',\n   'data': [0,\n    0,\n    0,\n    0,\n    0,\n    0,\n    0,\n    0,\n    0,\n    30,\n    45,\n    45,\n    30,\n    45,\n    45,\n    30,\n    30,\n    30,\n    45,\n    60,\n    75,\n    75,\n    45,\n    45]},\n  {'name': 'Friday',\n   'data': [0,\n    0,\n    0,\n    0,\n    0,\n    0,\n    0,\n    0,\n    0,\n    30,\n    30,\n    45,\n    30,\n    45,\n    45,\n    45,\n    45,\n    45,\n    60,\n    105,\n    105,\n    75,\n    60,\n    45]},\n  {'name': 'Saturday',\n   'data': [0,\n    0,\n    0,\n    0,\n    0,\n    0,\n    0,\n    0,\n    0,\n    45,\n    45,\n    30,\n    60,\n    90,\n    120,\n    75,\n    60,\n    75,\n    75,\n    120,\n    120,\n    105,\n    75,\n    60]},\n  {'name': 'Sunday',\n   'data': [0,\n    0,\n    0,\n    0,\n    0,\n    0,\n    0,\n    0,\n    0,\n    45,\n    45,\n    30,\n    45,\n    75,\n    75,\n    60,\n    45,\n    60,\n    75,\n    90,\n    90,\n    60,\n    45,\n    30]}]}"
     },
     "execution_count": 30,
     "metadata": {},
     "output_type": "execute_result"
    }
   ],
   "source": [
    "ptradar[-1]\n",
    "df = pd.DataFrame(ptradar)\n"
   ],
   "metadata": {
    "collapsed": false,
    "pycharm": {
     "name": "#%%\n"
    }
   }
  }
 ],
 "metadata": {
  "kernelspec": {
   "display_name": "Python 3",
   "language": "python",
   "name": "python3"
  },
  "language_info": {
   "codemirror_mode": {
    "name": "ipython",
    "version": 2
   },
   "file_extension": ".py",
   "mimetype": "text/x-python",
   "name": "python",
   "nbconvert_exporter": "python",
   "pygments_lexer": "ipython2",
   "version": "2.7.6"
  },
  "pycharm": {
   "stem_cell": {
    "cell_type": "raw",
    "source": [
     "\n"
    ],
    "metadata": {
     "collapsed": false
    }
   }
  }
 },
 "nbformat": 4,
 "nbformat_minor": 0
}